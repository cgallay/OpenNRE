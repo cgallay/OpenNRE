{
 "cells": [
  {
   "cell_type": "code",
   "execution_count": 4,
   "metadata": {},
   "outputs": [],
   "source": [
    "import pickle\n",
    "import json"
   ]
  },
  {
   "cell_type": "code",
   "execution_count": 2,
   "metadata": {},
   "outputs": [],
   "source": [
    "id2Word = pickle.load(open('id2Word.pkl', 'rb'))"
   ]
  },
  {
   "cell_type": "code",
   "execution_count": 42,
   "metadata": {},
   "outputs": [],
   "source": [
    "rel2id = json.loads(open(\"data/nyt/rel2id.json\", 'rb').read())"
   ]
  },
  {
   "cell_type": "code",
   "execution_count": 43,
   "metadata": {},
   "outputs": [],
   "source": [
    "id2rel = { uid: rel for rel, uid in rel2id.items()}"
   ]
  },
  {
   "cell_type": "code",
   "execution_count": 48,
   "metadata": {},
   "outputs": [],
   "source": [
    "json_data = open(\"test_result/nyt_pcnn_att_pred.json\", 'rb').read()"
   ]
  },
  {
   "cell_type": "code",
   "execution_count": 49,
   "metadata": {},
   "outputs": [],
   "source": [
    "filtered = filter(lambda x : x['relation'] !=0, json.loads(json_data))"
   ]
  },
  {
   "cell_type": "code",
   "execution_count": 50,
   "metadata": {},
   "outputs": [
    {
     "name": "stdout",
     "output_type": "stream",
     "text": [
      "('/business/company/founders', 'Apple Inc.', \"The Walt Disney Company's\")\n",
      "('/business/person/company', 'Apple Inc.', 'Pixar')\n",
      "('/business/company/founders', 'Apple Inc.', 'Steven Paul Jobs')\n"
     ]
    }
   ],
   "source": [
    "for rel in filtered:\n",
    "    ent1, ent2 = rel['entpair'].split('#')\n",
    "    tripple = (id2rel[rel['relation']], id2Word[ent1], id2Word[ent2])\n",
    "    print(tripple)"
   ]
  },
  {
   "cell_type": "code",
   "execution_count": null,
   "metadata": {},
   "outputs": [],
   "source": []
  }
 ],
 "metadata": {
  "kernelspec": {
   "display_name": "Python 3",
   "language": "python",
   "name": "python3"
  },
  "language_info": {
   "codemirror_mode": {
    "name": "ipython",
    "version": 3
   },
   "file_extension": ".py",
   "mimetype": "text/x-python",
   "name": "python",
   "nbconvert_exporter": "python",
   "pygments_lexer": "ipython3",
   "version": "3.6.6"
  }
 },
 "nbformat": 4,
 "nbformat_minor": 2
}
