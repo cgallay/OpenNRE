{
 "cells": [
  {
   "cell_type": "code",
   "execution_count": 1,
   "metadata": {},
   "outputs": [],
   "source": [
    "#import en_coref_lg\n",
    "#nlp = en_coref_lg.load()\n",
    "#doc = nlp(u'My sister has a dog. She loves him.')\n",
    "\n",
    "#doc._.has_coref\n",
    "#doc._.coref_clusters"
   ]
  },
  {
   "cell_type": "code",
   "execution_count": 7,
   "metadata": {},
   "outputs": [
    {
     "data": {
      "text/plain": [
       "[My sister: [My sister, She], a dog: [a dog, him]]"
      ]
     },
     "execution_count": 7,
     "metadata": {},
     "output_type": "execute_result"
    }
   ],
   "source": [
    "import spacy\n",
    "nlp = spacy.load('en_coref_lg')\n",
    "doc = nlp(u'My sister has a dog. She loves him.')\n",
    "\n",
    "doc._.has_coref\n",
    "doc._.coref_clusters"
   ]
  },
  {
   "cell_type": "code",
   "execution_count": 16,
   "metadata": {
    "collapsed": true
   },
   "outputs": [],
   "source": [
    "with open('test.txt', 'r') as myfile:\n",
    "    text=myfile.read()#.replace('\\n', '')\n",
    "    \n",
    "text = text.replace(\"\\n\", \" \")"
   ]
  },
  {
   "cell_type": "code",
   "execution_count": 17,
   "metadata": {},
   "outputs": [],
   "source": [
    "doc = nlp(text)"
   ]
  },
  {
   "cell_type": "code",
   "execution_count": 18,
   "metadata": {},
   "outputs": [
    {
     "data": {
      "text/plain": [
       "[Steven Paul Jobs: [Steven Paul Jobs, He],\n",
       " The Walt Disney Company's board of directors: [The Walt Disney Company's board of directors, its],\n",
       " Jobs: [Jobs, Jobs],\n",
       " him: [him, He, He, His, he, he, he, his],\n",
       " Wozniak: [Wozniak, Wozniak],\n",
       " Macintosh: [Macintosh, The Macintosh],\n",
       " Jobs: [Jobs, its, Jobs],\n",
       " Apple: [Apple, the company, Apple],\n",
       " him: [him, he, he, his, He, He],\n",
       " a computer platform development company that specialized in computers for higher-education and business markets: [a computer platform development company that specialized in computers for higher-education and business markets, The new company],\n",
       " the original Mac OS: [the original Mac OS, the OS],\n",
       " a pancreatic neuroendocrine tumor: [a pancreatic neuroendocrine tumor, the tumor]]"
      ]
     },
     "execution_count": 18,
     "metadata": {},
     "output_type": "execute_result"
    }
   ],
   "source": [
    "doc._.coref_clusters"
   ]
  },
  {
   "cell_type": "code",
   "execution_count": 19,
   "metadata": {},
   "outputs": [
    {
     "data": {
      "text/plain": [
       "'Steven Paul Jobs was an American entrepreneur and business magnate. Steven Paul Jobs was the chairman, chief executive officer (CEO), and a co-founder of Apple Inc., chairman and majority shareholder of Pixar, a member of The Walt Disney Company\\'s board of directors following The Walt Disney Company\\'s board of directors acquisition of Pixar, and the founder, chairman, and CEO of NeXT. Jobs is widely recognized as a pioneer of the microcomputer revolution of the 1970s and 1980s, along with Apple co-founder Steve Wozniak.  Jobs was born in San Francisco, California, to parents who put him up for adoption at birth. him was raised in the San Francisco Bay Area during the 1960s. him attended Reed College in 1972 before dropping out that same year, and traveled through India in 1974 seeking enlightenment and studying Zen Buddhism. him declassified FBI report states that him used marijuana and LSD while him was in college, and once told a reporter that taking LSD was \"one of the two or three most important things\" him had done in him life.  Jobs and Wozniak co-founded Apple in 1976 to sell Wozniak\\'s Apple I personal computer. Together the duo gained fame and wealth a year later for the Apple II, one of the first highly successful mass-produced personal computers. Jobs saw the commercial potential of the Xerox Alto in 1979, which was mouse-driven and had a graphical user interface (GUI). This led to development of the unsuccessful Apple Lisa in 1983, followed by the breakthrough Macintosh in 1984, the first mass-produced computer with a GUI. Macintosh introduced the desktop publishing industry in 1985 with the addition of the Apple LaserWriter, the first laser printer to feature vector graphics. Jobs was forced out of Apple in 1985 after a long power struggle with Apple\\'s board and Jobs then-CEO John Sculley. That same year, Jobs took a few of Apple\\'s members with him to found NeXT, a computer platform development company that specialized in computers for higher-education and business markets. In addition, him helped to develop the visual effects industry when him funded the computer graphics division of George Lucas\\'s Lucasfilm in 1986. a computer platform development company that specialized in computers for higher-education and business markets was Pixar, which produced Toy Story, the first fully computer-animated film.  Apple merged with NeXT in 1997, and Jobs became CEO of him former company within a few months. him was largely responsible for helping revive Apple, which had been at the verge of bankruptcy. him worked closely with designer Jony Ive to develop a line of products that had larger cultural ramifications, beginning in 1997 with the \"Think different\" advertising campaign and leading to the iMac, iTunes, iTunes Store, Apple Store, iPod, iPhone, App Store, and the iPad. In 2001, the original Mac OS was replaced with a completely new Mac OS X, based on NeXT\\'s NeXTSTEP platform, giving the original Mac OS a modern Unix-based foundation for the first time. Jobs was diagnosed with a pancreatic neuroendocrine tumor in 2003. He died at age 56 on October 5, 2011, of respiratory arrest related to a pancreatic neuroendocrine tumor. '"
      ]
     },
     "execution_count": 19,
     "metadata": {},
     "output_type": "execute_result"
    }
   ],
   "source": [
    "doc._.coref_resolved"
   ]
  },
  {
   "cell_type": "code",
   "execution_count": null,
   "metadata": {},
   "outputs": [],
   "source": []
  }
 ],
 "metadata": {
  "kernelspec": {
   "display_name": "Python 3",
   "language": "python",
   "name": "python3"
  },
  "language_info": {
   "codemirror_mode": {
    "name": "ipython",
    "version": 3
   },
   "file_extension": ".py",
   "mimetype": "text/x-python",
   "name": "python",
   "nbconvert_exporter": "python",
   "pygments_lexer": "ipython3",
   "version": "3.6.6"
  }
 },
 "nbformat": 4,
 "nbformat_minor": 2
}
