{
 "cells": [
  {
   "cell_type": "markdown",
   "metadata": {},
   "source": [
    "This notebook read the output of the model to extract only the relation that have a score higher than a predefine threshold. As the output of the model is a simple `json` this can be done in Scala and the detected relation stored in HBase."
   ]
  },
  {
   "cell_type": "code",
   "execution_count": 1,
   "metadata": {},
   "outputs": [],
   "source": [
    "import json\n",
    "from itertools import groupby"
   ]
  },
  {
   "cell_type": "code",
   "execution_count": 2,
   "metadata": {},
   "outputs": [],
   "source": [
    "path_to_result = '../test_result/nyt_pcnn_att_pred.json'\n",
    "path_rel2id = '../data/nyt/rel2id.json'"
   ]
  },
  {
   "cell_type": "code",
   "execution_count": 3,
   "metadata": {},
   "outputs": [],
   "source": [
    "with open(path_to_result, 'r') as f:\n",
    "    result = json.load(f)"
   ]
  },
  {
   "cell_type": "code",
   "execution_count": 5,
   "metadata": {},
   "outputs": [],
   "source": [
    "with open(path_rel2id, 'r') as f:\n",
    "    rel2id = json.load(f)"
   ]
  },
  {
   "cell_type": "code",
   "execution_count": 6,
   "metadata": {},
   "outputs": [],
   "source": [
    "id2rel = {v:str(k) for k, v in rel2id.items()}"
   ]
  },
  {
   "cell_type": "code",
   "execution_count": 7,
   "metadata": {},
   "outputs": [],
   "source": [
    "threshold = 0.5\n",
    "relations = []\n",
    "for i, grp in groupby(result, lambda x: x['entpair']):\n",
    "    for row in grp:\n",
    "        if row['score'] >= threshold:\n",
    "            assert row['relation'] != 0\n",
    "            ent1 = row['entpair'].split('#')[0]\n",
    "            ent2 = row['entpair'].split('#')[1]\n",
    "            relations.append((ent1, id2rel[row['relation']], ent2, row['score']))"
   ]
  },
  {
   "cell_type": "code",
   "execution_count": 8,
   "metadata": {},
   "outputs": [],
   "source": [
    "id2ent = json.load(open('id2ent.json', 'r'))"
   ]
  },
  {
   "cell_type": "code",
   "execution_count": 9,
   "metadata": {},
   "outputs": [],
   "source": [
    "import pandas as pd\n",
    "df_res = pd.DataFrame(relations, columns=['ent 1', 'rel', 'ent 2', 'score'])\n",
    "df_res['ent 1 label'] = df_res['ent 1'].apply(lambda x: id2ent.get(x, 'UNK'))\n",
    "df_res['ent 2 label'] = df_res['ent 2'].apply(lambda x: id2ent.get(x, 'UNK'))"
   ]
  },
  {
   "cell_type": "code",
   "execution_count": 10,
   "metadata": {},
   "outputs": [
    {
     "data": {
      "text/html": [
       "<div>\n",
       "<style scoped>\n",
       "    .dataframe tbody tr th:only-of-type {\n",
       "        vertical-align: middle;\n",
       "    }\n",
       "\n",
       "    .dataframe tbody tr th {\n",
       "        vertical-align: top;\n",
       "    }\n",
       "\n",
       "    .dataframe thead th {\n",
       "        text-align: right;\n",
       "    }\n",
       "</style>\n",
       "<table border=\"1\" class=\"dataframe\">\n",
       "  <thead>\n",
       "    <tr style=\"text-align: right;\">\n",
       "      <th></th>\n",
       "      <th></th>\n",
       "      <th>ent 2 label</th>\n",
       "      <th>score</th>\n",
       "    </tr>\n",
       "    <tr>\n",
       "      <th>ent 1 label</th>\n",
       "      <th>rel</th>\n",
       "      <th></th>\n",
       "      <th></th>\n",
       "    </tr>\n",
       "  </thead>\n",
       "  <tbody>\n",
       "    <tr>\n",
       "      <th>New York</th>\n",
       "      <th>/location/location/contains</th>\n",
       "      <td>Bastien</td>\n",
       "      <td>0.011510</td>\n",
       "    </tr>\n",
       "    <tr>\n",
       "      <th>Bastien</th>\n",
       "      <th>/location/location/contains</th>\n",
       "      <td>New York</td>\n",
       "      <td>0.011510</td>\n",
       "    </tr>\n",
       "    <tr>\n",
       "      <th>2019</th>\n",
       "      <th>/business/person/company</th>\n",
       "      <td>MIT</td>\n",
       "      <td>0.010135</td>\n",
       "    </tr>\n",
       "    <tr>\n",
       "      <th>Peter</th>\n",
       "      <th>/business/person/company</th>\n",
       "      <td>MIT</td>\n",
       "      <td>0.010135</td>\n",
       "    </tr>\n",
       "  </tbody>\n",
       "</table>\n",
       "</div>"
      ],
      "text/plain": [
       "                                        ent 2 label     score\n",
       "ent 1 label rel                                              \n",
       "New York    /location/location/contains     Bastien  0.011510\n",
       "Bastien     /location/location/contains    New York  0.011510\n",
       "2019        /business/person/company            MIT  0.010135\n",
       "Peter       /business/person/company            MIT  0.010135"
      ]
     },
     "execution_count": 10,
     "metadata": {},
     "output_type": "execute_result"
    }
   ],
   "source": [
    "df_res.sort_values('ent 1').set_index(['ent 1 label', 'rel'])[['ent 2 label', 'score']]"
   ]
  },
  {
   "cell_type": "code",
   "execution_count": null,
   "metadata": {},
   "outputs": [],
   "source": []
  }
 ],
 "metadata": {
  "kernelspec": {
   "display_name": "Python 3",
   "language": "python",
   "name": "python3"
  },
  "language_info": {
   "codemirror_mode": {
    "name": "ipython",
    "version": 3
   },
   "file_extension": ".py",
   "mimetype": "text/x-python",
   "name": "python",
   "nbconvert_exporter": "python",
   "pygments_lexer": "ipython3",
   "version": "3.5.2"
  }
 },
 "nbformat": 4,
 "nbformat_minor": 2
}
