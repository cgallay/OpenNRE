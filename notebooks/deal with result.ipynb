{
 "cells": [
  {
   "cell_type": "code",
   "execution_count": null,
   "metadata": {},
   "outputs": [],
   "source": [
    "import json\n",
    "from itertools import groupby"
   ]
  },
  {
   "cell_type": "code",
   "execution_count": null,
   "metadata": {},
   "outputs": [],
   "source": [
    "path_to_result = '../test_result/pred_pcnn_att_pred.json'\n",
    "path_rel2id = '../data/nyt/rel2id.json'"
   ]
  },
  {
   "cell_type": "code",
   "execution_count": null,
   "metadata": {},
   "outputs": [],
   "source": [
    "with open(path_to_result, 'r') as f:\n",
    "    result = json.load(f)"
   ]
  },
  {
   "cell_type": "code",
   "execution_count": null,
   "metadata": {},
   "outputs": [],
   "source": [
    "with open(path_rel2id, 'r') as f:\n",
    "    rel2id = json.load(f)"
   ]
  },
  {
   "cell_type": "code",
   "execution_count": null,
   "metadata": {},
   "outputs": [],
   "source": [
    "id2rel = {v:str(k) for k, v in rel2id.items()}"
   ]
  },
  {
   "cell_type": "code",
   "execution_count": null,
   "metadata": {},
   "outputs": [],
   "source": [
    "threshold = 0.05\n",
    "relations = []\n",
    "for i, grp in groupby(result, lambda x: x['entpair']):\n",
    "    for row in grp:\n",
    "        if row['score'] >= threshold:\n",
    "            assert row['relation'] != 0\n",
    "            ent1 = row['entpair'].split('#')[0]\n",
    "            ent2 = row['entpair'].split('#')[1]\n",
    "            relations.append((ent1, id2rel[row['relation']], ent2, row['score']))"
   ]
  },
  {
   "cell_type": "code",
   "execution_count": null,
   "metadata": {},
   "outputs": [],
   "source": [
    "id2ent = json.load(open('id2ent.json', 'r'))"
   ]
  },
  {
   "cell_type": "code",
   "execution_count": null,
   "metadata": {},
   "outputs": [],
   "source": [
    "import pandas as pd\n",
    "df_res = pd.DataFrame(relations, columns=['ent 1', 'rel', 'ent 2', 'score'])\n",
    "df_res['ent 1 label'] = df_res['ent 1'].apply(lambda x: id2ent[x])\n",
    "df_res['ent 2 label'] = df_res['ent 2'].apply(lambda x: id2ent[x])"
   ]
  },
  {
   "cell_type": "code",
   "execution_count": null,
   "metadata": {},
   "outputs": [],
   "source": [
    "df_res.sort_values('ent 1').set_index(['ent 1 label', 'rel'])[['ent 2 label', 'score']]"
   ]
  },
  {
   "cell_type": "code",
   "execution_count": null,
   "metadata": {},
   "outputs": [],
   "source": []
  }
 ],
 "metadata": {
  "kernelspec": {
   "display_name": "Python 3",
   "language": "python",
   "name": "python3"
  },
  "language_info": {
   "codemirror_mode": {
    "name": "ipython",
    "version": 3
   },
   "file_extension": ".py",
   "mimetype": "text/x-python",
   "name": "python",
   "nbconvert_exporter": "python",
   "pygments_lexer": "ipython3",
   "version": "3.5.2"
  }
 },
 "nbformat": 4,
 "nbformat_minor": 2
}
