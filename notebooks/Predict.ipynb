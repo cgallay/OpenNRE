{
 "cells": [
  {
   "cell_type": "code",
   "execution_count": 1,
   "metadata": {},
   "outputs": [],
   "source": [
    "import json\n",
    "import hashlib\n",
    "import os\n",
    "\n",
    "import spacy"
   ]
  },
  {
   "cell_type": "code",
   "execution_count": 2,
   "metadata": {},
   "outputs": [],
   "source": [
    "text = \"\"\"\n",
    "Bastien was born in New York.\n",
    "Robert work as a Data Scientist.\n",
    "Charles is the son of Robert. He was born in 1993. In 1993 Bastien went to the world in New York.\n",
    "Charles graduated from EPFL in 2019. \"\"\""
   ]
  },
  {
   "cell_type": "code",
   "execution_count": 3,
   "metadata": {},
   "outputs": [],
   "source": [
    "nlp = spacy.load('en_core_web_sm')"
   ]
  },
  {
   "cell_type": "code",
   "execution_count": 4,
   "metadata": {},
   "outputs": [],
   "source": [
    "def split_by_sentence(text):\n",
    "    doc = nlp(text)\n",
    "    return [str(sent) for sent in doc.sents]\n",
    "sents = split_by_sentence(text)"
   ]
  },
  {
   "cell_type": "code",
   "execution_count": 5,
   "metadata": {},
   "outputs": [],
   "source": [
    "def encode_hash(obj):\n",
    "    return hashlib.sha224(str(obj).encode()).hexdigest()"
   ]
  },
  {
   "cell_type": "code",
   "execution_count": 6,
   "metadata": {},
   "outputs": [],
   "source": [
    "id2ent = {}\n",
    "def detect_entities(sent):\n",
    "    json_obj = []\n",
    "    doc = nlp(sent)\n",
    "    for ent in doc.ents:\n",
    "        for ent2 in doc.ents:\n",
    "            if ent != ent2:\n",
    "                id2ent[encode_hash(ent)] = str(ent)\n",
    "                json_obj.append({'sentence': sent,\n",
    "                                'head': {\n",
    "                                    'word': str(ent),\n",
    "                                    'id': str(encode_hash(ent))\n",
    "                                } ,\n",
    "                                 'tail': {\n",
    "                                     'word': str(ent2),\n",
    "                                     'id': str(encode_hash(ent2))\n",
    "                                 },\n",
    "                                'relation': 'NA'})\n",
    "    return json_obj"
   ]
  },
  {
   "cell_type": "code",
   "execution_count": 7,
   "metadata": {},
   "outputs": [],
   "source": [
    "json_obj = []\n",
    "for sent in sents:\n",
    "    json_obj += detect_entities(sent)"
   ]
  },
  {
   "cell_type": "code",
   "execution_count": 10,
   "metadata": {},
   "outputs": [],
   "source": [
    "with open('id2ent.json', 'w') as f:\n",
    "    f.write(json.dumps(id2ent))"
   ]
  },
  {
   "cell_type": "code",
   "execution_count": 9,
   "metadata": {},
   "outputs": [],
   "source": [
    "directory = '../data/pred'\n",
    "if not os.path.exists(directory):\n",
    "    os.mkdir(directory)\n",
    "with open('../data/pred/test.json', 'w') as f:\n",
    "    f.write(json.dumps(json_obj))"
   ]
  },
  {
   "cell_type": "code",
   "execution_count": null,
   "metadata": {},
   "outputs": [],
   "source": []
  }
 ],
 "metadata": {
  "kernelspec": {
   "display_name": "Python 3",
   "language": "python",
   "name": "python3"
  },
  "language_info": {
   "codemirror_mode": {
    "name": "ipython",
    "version": 3
   },
   "file_extension": ".py",
   "mimetype": "text/x-python",
   "name": "python",
   "nbconvert_exporter": "python",
   "pygments_lexer": "ipython3",
   "version": "3.5.2"
  }
 },
 "nbformat": 4,
 "nbformat_minor": 2
}
