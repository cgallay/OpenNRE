{
 "cells": [
  {
   "cell_type": "code",
   "execution_count": 1,
   "metadata": {},
   "outputs": [],
   "source": [
    "import json\n",
    "import hashlib\n",
    "import os\n",
    "\n",
    "import spacy"
   ]
  },
  {
   "cell_type": "code",
   "execution_count": 2,
   "metadata": {},
   "outputs": [],
   "source": [
    "text = \"\"\"\n",
    "Bastien was born in New York.\n",
    "Robert work as a Data Scientist.\n",
    "Charles is the son of Robert. He was born in 1993. In 1993 Bastien went to the world in New York.\n",
    "Charles graduated from EPFL in 2019. \"\"\""
   ]
  },
  {
   "cell_type": "code",
   "execution_count": 3,
   "metadata": {},
   "outputs": [],
   "source": [
    "nlp = spacy.load('en_core_web_sm')"
   ]
  },
  {
   "cell_type": "code",
   "execution_count": 4,
   "metadata": {},
   "outputs": [],
   "source": [
    "def split_by_sentence(text):\n",
    "    doc = nlp(text)\n",
    "    return [str(sent) for sent in doc.sents]\n",
    "sents = split_by_sentence(text)"
   ]
  },
  {
   "cell_type": "code",
   "execution_count": 5,
   "metadata": {},
   "outputs": [],
   "source": [
    "def encode_hash(obj):\n",
    "    return hashlib.sha224(str(obj).encode()).hexdigest()"
   ]
  },
  {
   "cell_type": "code",
   "execution_count": 6,
   "metadata": {},
   "outputs": [],
   "source": [
    "id2ent = {}\n",
    "def detect_entities(sent):\n",
    "    json_obj = []\n",
    "    doc = nlp(sent)\n",
    "    for ent in doc.ents:\n",
    "        for ent2 in doc.ents:\n",
    "            if ent != ent2:\n",
    "                id2ent[encode_hash(ent)] = str(ent)\n",
    "                json_obj.append({'sentence': sent,\n",
    "                                'head': {\n",
    "                                    'word': str(ent),\n",
    "                                    'id': str(encode_hash(ent))\n",
    "                                } ,\n",
    "                                 'tail': {\n",
    "                                     'word': str(ent2),\n",
    "                                     'id': str(encode_hash(ent2))\n",
    "                                 },\n",
    "                                'relation': 'NA'})\n",
    "    return json_obj"
   ]
  },
  {
   "cell_type": "code",
   "execution_count": 7,
   "metadata": {},
   "outputs": [],
   "source": [
    "json_obj = []\n",
    "for sent in sents:\n",
    "    json_obj += detect_entities(sent)"
   ]
  },
  {
   "cell_type": "code",
   "execution_count": 8,
   "metadata": {},
   "outputs": [
    {
     "data": {
      "text/plain": [
       "{'0b964d5916eaf00d0742cdd9acca7acd65bc2f8dc8de8ec1f843242c': 'New York',\n",
       " '0f489ae6101d4abec45305e100e1ad1ea2b511d37776af2624d23c24': 'Bastien',\n",
       " '1284904f6b4233d25240df203f571bb9f03e9b2f314952d06047cfb8': '1993',\n",
       " '30c6dad67c49781a68a4e2487bc15474e5efd2e03267e2e76c956c0f': '2019',\n",
       " '48837a787f07673545d9c610bcbcd8d46a2691a71966d856c197e69e': '\\n',\n",
       " 'a4d30cab6f9ff4305ffe143e2b68c10bfea759b90c4c78afafcc2e38': 'EPFL',\n",
       " 'eb26be32bb78cb41db8ed8cda978941a2b01af786ca9c4de6fbbb2a3': 'Robert',\n",
       " 'fbdc2183ea96e9796b68e99fbb4ed27922ed56758dfed1e436b1e8d1': 'Charles'}"
      ]
     },
     "execution_count": 8,
     "metadata": {},
     "output_type": "execute_result"
    }
   ],
   "source": [
    "id2ent"
   ]
  },
  {
   "cell_type": "code",
   "execution_count": 9,
   "metadata": {},
   "outputs": [],
   "source": [
    "directory = '../data/pred'\n",
    "if not os.path.exists(directory):\n",
    "    os.mkdir(directory)\n",
    "with open('../data/pred/test.json', 'w') as f:\n",
    "    f.write(json.dumps(json_obj))"
   ]
  },
  {
   "cell_type": "code",
   "execution_count": null,
   "metadata": {},
   "outputs": [],
   "source": []
  }
 ],
 "metadata": {
  "kernelspec": {
   "display_name": "Python 3",
   "language": "python",
   "name": "python3"
  },
  "language_info": {
   "codemirror_mode": {
    "name": "ipython",
    "version": 3
   },
   "file_extension": ".py",
   "mimetype": "text/x-python",
   "name": "python",
   "nbconvert_exporter": "python",
   "pygments_lexer": "ipython3",
   "version": "3.5.2"
  }
 },
 "nbformat": 4,
 "nbformat_minor": 2
}
